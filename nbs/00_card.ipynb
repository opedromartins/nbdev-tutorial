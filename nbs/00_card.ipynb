{
 "cells": [
  {
   "cell_type": "markdown",
   "metadata": {},
   "source": [
    "# Card -- A basic playing card \n",
    "\n",
    "> A simple API for creating and using playing cards"
   ]
  },
  {
   "cell_type": "code",
   "execution_count": 51,
   "metadata": {},
   "outputs": [],
   "source": [
    "#| default_exp card"
   ]
  },
  {
   "cell_type": "code",
   "execution_count": 52,
   "metadata": {},
   "outputs": [],
   "source": [
    "#| export\n",
    "from fastcore.utils import *"
   ]
  },
  {
   "cell_type": "code",
   "execution_count": 53,
   "metadata": {},
   "outputs": [],
   "source": [
    "#| hide\n",
    "from nbdev.showdoc import *\n",
    "from fastcore.test import *"
   ]
  },
  {
   "cell_type": "code",
   "execution_count": 54,
   "metadata": {},
   "outputs": [],
   "source": [
    "#| hide\n",
    "import nbdev; nbdev.nbdev_export()"
   ]
  },
  {
   "cell_type": "code",
   "execution_count": 55,
   "metadata": {},
   "outputs": [],
   "source": [
    "#| export\n",
    "suits = [\"♠️\", \"♥️\", \"♦️\", \"♣️\"]\n",
    "ranks = [None, \"A\"] + [str(x) for x in range(2, 11)] + [\"J\", \"Q\", \"K\"]"
   ]
  },
  {
   "cell_type": "markdown",
   "metadata": {},
   "source": [
    "We will be using numbers to represent playing card clubs and ranks.\n",
    "\n",
    "These are the suits:"
   ]
  },
  {
   "cell_type": "code",
   "execution_count": 56,
   "metadata": {},
   "outputs": [
    {
     "data": {
      "text/plain": [
       "['♠️', '♥️', '♦️', '♣️']"
      ]
     },
     "execution_count": 56,
     "metadata": {},
     "output_type": "execute_result"
    }
   ],
   "source": [
    "suits"
   ]
  },
  {
   "cell_type": "markdown",
   "metadata": {},
   "source": [
    "For instance, the suit at index `0`:"
   ]
  },
  {
   "cell_type": "code",
   "execution_count": 57,
   "metadata": {},
   "outputs": [
    {
     "data": {
      "text/plain": [
       "'♠️'"
      ]
     },
     "execution_count": 57,
     "metadata": {},
     "output_type": "execute_result"
    }
   ],
   "source": [
    "suits[0]"
   ]
  },
  {
   "cell_type": "markdown",
   "metadata": {},
   "source": [
    "These are the ranks:"
   ]
  },
  {
   "cell_type": "code",
   "execution_count": 58,
   "metadata": {},
   "outputs": [
    {
     "data": {
      "text/plain": [
       "[None, 'A', '2', '3', '4', '5', '6', '7', '8', '9', '10', 'J', 'Q', 'K']"
      ]
     },
     "execution_count": 58,
     "metadata": {},
     "output_type": "execute_result"
    }
   ],
   "source": [
    "ranks"
   ]
  },
  {
   "cell_type": "markdown",
   "metadata": {},
   "source": [
    "For instance, the rank at index `1`:\n",
    "\n",
    "(Note that there isn't a rank at index `0`, since we want the rank to match the indices where possible.)"
   ]
  },
  {
   "cell_type": "code",
   "execution_count": 59,
   "metadata": {},
   "outputs": [
    {
     "data": {
      "text/plain": [
       "'A'"
      ]
     },
     "execution_count": 59,
     "metadata": {},
     "output_type": "execute_result"
    }
   ],
   "source": [
    "ranks[1]"
   ]
  },
  {
   "cell_type": "code",
   "execution_count": 60,
   "metadata": {},
   "outputs": [],
   "source": [
    "#| export\n",
    "class Card:\n",
    "    \"A playing card, created by passing in `rank` and `suit`\"\n",
    "    def __init__(self,\n",
    "                 suit:int, # An index into `suits`\n",
    "                 rank:int): # An index into `ranks`\n",
    "        self.suit = suit\n",
    "        self.rank = rank\n",
    "\n",
    "    def __str__(self):\n",
    "        return f\"{ranks[self.rank]}{suits[self.suit]}\"\n",
    "    __repr__ = __str__"
   ]
  },
  {
   "cell_type": "code",
   "execution_count": 61,
   "metadata": {},
   "outputs": [
    {
     "data": {
      "text/markdown": [
       "---\n",
       "\n",
       "[source](https://github.com/opedromartins/nbdev-tutorial/blob/main/nbdev_tutorial/card.py#L11){target=\"_blank\" style=\"float:right; font-size:smaller\"}\n",
       "\n",
       "### Card\n",
       "\n",
       ">      Card (suit:int, rank:int)\n",
       "\n",
       "A playing card, created by passing in `rank` and `suit`\n",
       "\n",
       "|    | **Type** | **Details** |\n",
       "| -- | -------- | ----------- |\n",
       "| suit | int | An index into `suits` |\n",
       "| rank | int | An index into `ranks` |"
      ],
      "text/plain": [
       "---\n",
       "\n",
       "[source](https://github.com/opedromartins/nbdev-tutorial/blob/main/nbdev_tutorial/card.py#L11){target=\"_blank\" style=\"float:right; font-size:smaller\"}\n",
       "\n",
       "### Card\n",
       "\n",
       ">      Card (suit:int, rank:int)\n",
       "\n",
       "A playing card, created by passing in `rank` and `suit`\n",
       "\n",
       "|    | **Type** | **Details** |\n",
       "| -- | -------- | ----------- |\n",
       "| suit | int | An index into `suits` |\n",
       "| rank | int | An index into `ranks` |"
      ]
     },
     "execution_count": 61,
     "metadata": {},
     "output_type": "execute_result"
    }
   ],
   "source": [
    "show_doc(Card)"
   ]
  },
  {
   "cell_type": "markdown",
   "metadata": {},
   "source": [
    "Here is an example of creating and displaying a card:"
   ]
  },
  {
   "cell_type": "code",
   "execution_count": 62,
   "metadata": {},
   "outputs": [
    {
     "data": {
      "text/plain": [
       "4♣️"
      ]
     },
     "execution_count": 62,
     "metadata": {},
     "output_type": "execute_result"
    }
   ],
   "source": [
    "c = Card(suit=3, rank=4)\n",
    "c"
   ]
  },
  {
   "cell_type": "markdown",
   "metadata": {},
   "source": [
    "## Comparison Operators"
   ]
  },
  {
   "cell_type": "code",
   "execution_count": 63,
   "metadata": {},
   "outputs": [],
   "source": [
    "#| export\n",
    "@patch\n",
    "def __eq__(self:Card, a:Card):\n",
    "    return (self.suit, self.rank) == (a.suit, a.rank)\n",
    "@patch\n",
    "def __lt__(self:Card, a:Card):\n",
    "    return (self.suit, self.rank) < (a.suit, a.rank)\n",
    "@patch\n",
    "def __gt__(self:Card, a:Card):\n",
    "    return (self.suit, self.rank) > (a.suit, a.rank)"
   ]
  },
  {
   "cell_type": "markdown",
   "metadata": {},
   "source": [
    "Equality, less than and greater than work on the rank and suit indices:"
   ]
  },
  {
   "cell_type": "markdown",
   "metadata": {},
   "source": [
    "A test for equality:"
   ]
  },
  {
   "cell_type": "code",
   "execution_count": 64,
   "metadata": {},
   "outputs": [],
   "source": [
    "test_eq(Card(suit=3, rank=4), Card(suit=3, rank=4))"
   ]
  },
  {
   "cell_type": "code",
   "execution_count": 65,
   "metadata": {},
   "outputs": [],
   "source": [
    "#| hide\n",
    "# We can also hide tests from the docs\n",
    "test_ne(Card(suit=3, rank=4), Card(suit=1, rank=4))\n",
    "test_ne(Card(suit=1, rank=2), Card(suit=1, rank=3))"
   ]
  },
  {
   "cell_type": "markdown",
   "metadata": {},
   "source": [
    "And `<`:"
   ]
  },
  {
   "cell_type": "code",
   "execution_count": 66,
   "metadata": {},
   "outputs": [],
   "source": [
    "assert Card(suit=1, rank=3) < Card(suit=2, rank=3)"
   ]
  },
  {
   "cell_type": "markdown",
   "metadata": {},
   "source": [
    "And `>`:"
   ]
  },
  {
   "cell_type": "code",
   "execution_count": 67,
   "metadata": {},
   "outputs": [],
   "source": [
    "assert Card(suit=3, rank=3) > Card(suit=2, rank=3)\n",
    "assert not Card(suit=1, rank=3) > Card(suit=2, rank=3)"
   ]
  }
 ],
 "metadata": {
  "kernelspec": {
   "display_name": "python3",
   "language": "python",
   "name": "python3"
  },
  "language_info": {
   "codemirror_mode": {
    "name": "ipython",
    "version": 3
   },
   "file_extension": ".py",
   "mimetype": "text/x-python",
   "name": "python",
   "nbconvert_exporter": "python",
   "pygments_lexer": "ipython3",
   "version": "3.10.12"
  }
 },
 "nbformat": 4,
 "nbformat_minor": 4
}
